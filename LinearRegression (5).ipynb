{
  "nbformat": 4,
  "nbformat_minor": 0,
  "metadata": {
    "colab": {
      "provenance": []
    },
    "kernelspec": {
      "name": "python3",
      "display_name": "Python 3"
    },
    "language_info": {
      "name": "python"
    }
  },
  "cells": [
    {
      "cell_type": "code",
      "source": [
        "from google.colab import drive\n",
        "drive.mount('/content/gdrive/')"
      ],
      "metadata": {
        "colab": {
          "base_uri": "https://localhost:8080/"
        },
        "id": "dcSWvsL_8xeR",
        "outputId": "b13880d4-e816-4d5f-9ab8-44a290363b99"
      },
      "execution_count": null,
      "outputs": [
        {
          "output_type": "stream",
          "name": "stdout",
          "text": [
            "Mounted at /content/gdrive/\n"
          ]
        }
      ]
    },
    {
      "cell_type": "code",
      "source": [
        "!ls /content/gdrive/"
      ],
      "metadata": {
        "id": "Bb4l3rFlIsys",
        "outputId": "fa6efaf0-65df-4a70-c8dd-9a7b17db42d0",
        "colab": {
          "base_uri": "https://localhost:8080/"
        }
      },
      "execution_count": null,
      "outputs": [
        {
          "output_type": "stream",
          "name": "stdout",
          "text": [
            "MyDrive\n"
          ]
        }
      ]
    },
    {
      "cell_type": "code",
      "execution_count": null,
      "metadata": {
        "id": "2q37vDLm7-aX"
      },
      "outputs": [],
      "source": [
        "import numpy as np\n",
        "import pandas as pd\n",
        "import scipy.io as io\n",
        "from sklearn import metrics\n",
        "from sklearn.preprocessing import StandardScaler\n",
        "from sklearn.model_selection import train_test_split\n",
        "from sklearn.linear_model import LinearRegression, Lasso, Ridge, SGDRegressor, SGDClassifier\n"
      ]
    },
    {
      "cell_type": "code",
      "source": [
        "dataX = pd.read_csv(\"/content/gdrive/MyDrive/ex1data2.txt\", header=None, usecols=[0, 1], sep=',') #change the path\n",
        "\n",
        "dataY = pd.read_csv(\"/content/gdrive/MyDrive/ex1data2.txt\", header=None, usecols=[2], sep=',') #change the path\n",
        "data_X = np.asarray(dataX)\n",
        "\n",
        "data_Y = np.asarray(dataY)"
      ],
      "metadata": {
        "id": "0qv1lvhH8RzK"
      },
      "execution_count": null,
      "outputs": []
    },
    {
      "cell_type": "code",
      "source": [
        "X_train, X_test, Y_train, Y_test = train_test_split(data_X, data_Y, test_size=0.3,random_state=1)\n",
        "\n",
        "print(X_train)"
      ],
      "metadata": {
        "id": "3RseS27YG9hn",
        "colab": {
          "base_uri": "https://localhost:8080/"
        },
        "outputId": "ab15e2c3-ae6d-40c3-deaa-ad23f127aaff"
      },
      "execution_count": null,
      "outputs": [
        {
          "output_type": "stream",
          "name": "stdout",
          "text": [
            "[[1811    4]\n",
            " [2526    3]\n",
            " [1888    2]\n",
            " [4478    5]\n",
            " [4215    4]\n",
            " [1236    3]\n",
            " [2567    4]\n",
            " [3000    4]\n",
            " [2200    3]\n",
            " [1268    3]\n",
            " [1940    4]\n",
            " [2238    3]\n",
            " [1839    2]\n",
            " [1000    1]\n",
            " [1664    2]\n",
            " [1767    3]\n",
            " [2609    4]\n",
            " [1100    3]\n",
            " [1534    3]\n",
            " [1427    3]\n",
            " [ 852    2]\n",
            " [1600    3]\n",
            " [1320    2]\n",
            " [2104    3]\n",
            " [2300    4]\n",
            " [1985    4]\n",
            " [2000    3]\n",
            " [1494    3]\n",
            " [1380    3]\n",
            " [1890    3]\n",
            " [1200    3]\n",
            " [2132    4]]\n"
          ]
        }
      ]
    },
    {
      "cell_type": "code",
      "source": [
        "from sklearn import metrics\n",
        "\n",
        "def calc_metrics(true, pred):\n",
        "    mse = metrics.mean_squared_error(true, pred)\n",
        "    rmse = np.sqrt(mse)\n",
        "    mae = metrics.mean_absolute_error(true, pred)\n",
        "    r2=metrics.r2_score(true, pred) #Коэффициент детерминации измеряет долю дисперсии.Фактически, данная мера качества — это нормированная среднеквадратичная ошибка. Если r2 близка к единице, то модель хорошо объясняет данные.\n",
        "    \n",
        "    print(\"RMSE:  {}\\nMAE:   {} \\nR2:   {}\".format(rmse, mae, r2))"
      ],
      "metadata": {
        "id": "7tVtdHeoB3iV"
      },
      "execution_count": null,
      "outputs": []
    },
    {
      "cell_type": "code",
      "source": [
        "model_linear = Lasso(alpha = 0.1)\n",
        "model_linear.fit(X_train, Y_train)\n",
        "print(model_linear.coef_, model_linear.intercept_)"
      ],
      "metadata": {
        "colab": {
          "base_uri": "https://localhost:8080/"
        },
        "id": "sDuXkLyJkkdv",
        "outputId": "8bc101d1-265e-45d8-a63e-69f28a02c64f"
      },
      "execution_count": null,
      "outputs": [
        {
          "output_type": "stream",
          "name": "stdout",
          "text": [
            "[  139.68898838 -8757.05182985] [90421.82230494]\n"
          ]
        }
      ]
    },
    {
      "cell_type": "code",
      "source": [
        "y_pred_linear = model_linear.predict(X_test)\n",
        "\n",
        "calc_metrics(Y_test, y_pred_linear)"
      ],
      "metadata": {
        "colab": {
          "base_uri": "https://localhost:8080/"
        },
        "id": "D6ld31b7MRjs",
        "outputId": "e4b90a40-5fe5-482f-a8b3-b8959f834a2c"
      },
      "execution_count": null,
      "outputs": [
        {
          "output_type": "stream",
          "name": "stdout",
          "text": [
            "(15, 1) (15,)\n",
            "RMSE:  78874.29073397799\n",
            "MAE:   58956.36624163459 \n",
            "R2:   0.639480238808477\n"
          ]
        }
      ]
    },
    {
      "cell_type": "code",
      "source": [
        "\n",
        "X_train_new = np.hstack((Y_train**0, X_train))\n",
        "\n",
        "X_test_new = np.hstack((Y_test**0, X_test))\n",
        "\n",
        "\n",
        "A = X_train_new\n",
        "Y = Y_train\n",
        "At = np.transpose(A)\n",
        "Aminus = At.dot(A)\n",
        "\n",
        "n = np.dot(At,A).shape\n",
        "number = n[0]\n",
        "b = np.eye(number)\n",
        "\n",
        "alpha = 0.1\n",
        "\n",
        "\n",
        "answer = np.dot(np.dot(np.linalg.pinv(np.dot(At,A)),At), Y) #формула коэфф-ов лин регрессии (х(t)*х)^(-1)*x(t)*y\n",
        "print (\"Тета:\",answer)\n",
        "\n",
        "Y_pred = X_test_new.dot(answer) #считаем прогноз\n",
        "\n",
        "print(\"Prognoz:\", Y_pred)\n",
        "\n",
        "\n",
        "calc_metrics(Y_test, Y_pred) #сравниваем прогноз с реальными значениями и, исходя из этого, считаем ошибки\n",
        "\n"
      ],
      "metadata": {
        "colab": {
          "base_uri": "https://localhost:8080/"
        },
        "id": "Xb1-Tx8AlgYV",
        "outputId": "e2554c6c-7ff9-4399-a8a4-0e0d80d4ae3a"
      },
      "execution_count": null,
      "outputs": [
        {
          "output_type": "stream",
          "name": "stdout",
          "text": [
            "Тета: [[90422.30665191]\n",
            " [  139.68918288]\n",
            " [-8757.32850439]]\n",
            "Prognoz: [[607541.24253416]\n",
            " [288211.77047506]\n",
            " [357401.00601659]\n",
            " [264883.67693443]\n",
            " [399404.36004594]\n",
            " [270707.53259838]\n",
            " [432510.69638803]\n",
            " [340358.92570548]\n",
            " [314097.35932441]\n",
            " [267817.14977487]\n",
            " [478790.90593757]\n",
            " [237225.21872459]\n",
            " [232196.40814098]\n",
            " [502355.28782703]\n",
            " [329463.16944099]]\n",
            "RMSE:  78874.29109731178\n",
            "MAE:   58956.34710050829 \n",
            "R2:   0.6394802354870142\n"
          ]
        }
      ]
    },
    {
      "cell_type": "markdown",
      "source": [
        "LR: RMSE:  2.862794230037707\n",
        "MAE:   2.282771866322345 \n",
        "R2:   0.2648616239903123"
      ],
      "metadata": {
        "id": "R45Nz6wQqE4M"
      }
    },
    {
      "cell_type": "markdown",
      "source": [
        "Lasso: RMSE:  2.8498191109414024\n",
        "MAE:   2.253021041936627 \n",
        "R2:   0.27151029755777756"
      ],
      "metadata": {
        "id": "zX-bm34ZqMHU"
      }
    },
    {
      "cell_type": "markdown",
      "source": [
        "Ridge: RMSE:  2.862523334584119\n",
        "MAE:   2.282233880797087 \n",
        "R2:   0.2650007441684432"
      ],
      "metadata": {
        "id": "lC_vhkD0qdEM"
      }
    },
    {
      "cell_type": "markdown",
      "source": [
        "МНК с регуляризацией: RMSE:  78870.16957631338\n",
        "MAE:   58932.27820944658 \n",
        "R2:   0.6395179119196526"
      ],
      "metadata": {
        "id": "mZ1rqbtQqIhU"
      }
    },
    {
      "cell_type": "markdown",
      "source": [
        "МНК:RMSE:  78874.29109731178 MAE:   58956.34710050829  R2:   0.6394802354870142"
      ],
      "metadata": {
        "id": "IiNweVnNpz_H"
      }
    },
    {
      "cell_type": "code",
      "source": [
        "from sklearn import preprocessing\n",
        "\n",
        "X_train_new = np.hstack((Y_train**0, X_train))\n",
        "\n",
        "X_test_new = np.hstack((Y_test**0, X_test))\n",
        "\n",
        "#минимаксная нормализация\n",
        "X_train_norm = preprocessing.normalize(X_train_new,norm = 'l2', axis = 0 )\n",
        "X_test_norm = preprocessing.normalize(X_test_new,norm = 'l2', axis = 0 )\n",
        "\n",
        "Y_test_norm = preprocessing.normalize(Y_test,norm = 'l2', axis = 0 )\n",
        "Y_train_norm = preprocessing.normalize(Y_train,norm = 'l2', axis = 0 )\n",
        "\n",
        " \n",
        "\n",
        "A = X_train_norm\n",
        "Y = Y_train_norm\n",
        "At = np.transpose(A)\n",
        "Aminus = At.dot(A)\n",
        "\n",
        "\n",
        "answer = np.dot(np.dot(np.linalg.pinv(np.dot(At,A)),At), Y) #формула коэфф-ов лин регрессии (х(t)*х)^(-1)*x(t)*y\n",
        "print (\"Тета:\",answer)\n",
        "\n",
        "Y_pred = X_test_norm.dot(answer) #считаем прогноз\n",
        "\n",
        "print(\"Prognoz:\", Y_pred)\n",
        "\n",
        "\n",
        "calc_metrics(Y_test_norm, Y_pred) #сравниваем прогноз с реальными значениями и, исходя из этого, считаем ошибки\n",
        "\n"
      ],
      "metadata": {
        "id": "O1VaeDwivhUy"
      },
      "execution_count": null,
      "outputs": []
    },
    {
      "cell_type": "code",
      "source": [
        "#мнк для трёхмерной\n",
        "X_train_new = np.hstack((Y_train**0, X_train))\n",
        "\n",
        "X_test_new = np.hstack((Y_test**0, X_test))\n",
        "\n",
        "\n",
        "A = X_train_new\n",
        "Y = Y_train\n",
        "At = np.transpose(A)\n",
        "Aminus = At.dot(A)\n",
        "\n",
        "\n",
        "answer = np.dot(np.dot(np.linalg.pinv(np.dot(At,A)),At), Y) #формула коэфф-ов лин регрессии (х(t)*х)^(-1)*x(t)*y\n",
        "print (\"Тета:\",answer)\n",
        "\n",
        "Y_pred = X_test_new.dot(answer) #считаем прогноз\n",
        "\n",
        "print(\"Prognoz:\", Y_pred)\n",
        "\n",
        "\n",
        "calc_metrics(Y_test, Y_pred) #сравниваем прогноз с реальными значениями и, исходя из этого, считаем ошибки\n",
        "\n"
      ],
      "metadata": {
        "id": "AbdMphIXqU3G"
      },
      "execution_count": null,
      "outputs": []
    },
    {
      "cell_type": "code",
      "source": [],
      "metadata": {
        "id": "iiqfhhUnwqwJ"
      },
      "execution_count": null,
      "outputs": []
    },
    {
      "cell_type": "code",
      "source": [
        "#мнк для трёхмерной c регуляризацией\n",
        "X_train_new = np.hstack((Y_train**0, X_train))\n",
        "\n",
        "X_test_new = np.hstack((Y_test**0, X_test))\n",
        "\n",
        "\n",
        "A = X_train_new\n",
        "Y = Y_train\n",
        "At = np.transpose(A)\n",
        "Aminus = At.dot(A)\n",
        "\n",
        "n = np.dot(At,A).shape\n",
        "number = n[0]\n",
        "b = np.eye(number)\n",
        "\n",
        "alpha = 0.1\n",
        "\n",
        "\n",
        "answer = np.dot(np.dot(np.linalg.pinv(np.dot(At,A)+alpha*b),At), Y) #формула коэфф-ов лин регрессии (х(t)*х)^(-1)*x(t)*y\n",
        "print (\"Тета:\",answer)\n",
        "\n",
        "Y_pred = X_test_new.dot(answer) #считаем прогноз\n",
        "\n",
        "print(\"Prognoz:\", Y_pred)\n",
        "\n",
        "\n",
        "calc_metrics(Y_test, Y_pred) #сравниваем прогноз с реальными значениями и, исходя из этого, считаем ошибки\n",
        "\n"
      ],
      "metadata": {
        "id": "sYJkCLEGwtN-"
      },
      "execution_count": null,
      "outputs": []
    },
    {
      "cell_type": "code",
      "source": [],
      "metadata": {
        "id": "PZbe3_OAxAfh"
      },
      "execution_count": null,
      "outputs": []
    },
    {
      "cell_type": "code",
      "source": [
        "from sklearn import preprocessing\n",
        "\n",
        "X_train_new = np.hstack((Y_train**0, X_train))\n",
        "\n",
        "X_test_new = np.hstack((Y_test**0, X_test))\n",
        "\n",
        "#стандартизация\n",
        "scaler = StandardScaler().fit(X_train_new)\n",
        "X_train_scaled = scaler.transform(X_train_new)\n",
        "\n",
        "scaler_1 = StandardScaler().fit(X_test_new)\n",
        "X_test_scaled = scaler_1.transform(X_test_new) \n",
        "\n",
        "scaler_2 = StandardScaler().fit(Y_test)\n",
        "Y_test_scaled = scaler_2.transform(Y_test)\n",
        "\n",
        "scaler_3 = StandardScaler().fit(Y_train)\n",
        "Y_train_scaled = scaler_3.transform(Y_train)\n",
        "\n",
        "A = X_train_scaled\n",
        "Y = Y_train_scaled\n",
        "At = np.transpose(A)\n",
        "Aminus = At.dot(A)\n",
        "\n",
        "\n",
        "answer = np.dot(np.dot(np.linalg.pinv(np.dot(At,A)),At), Y) #формула коэфф-ов лин регрессии (х(t)*х)^(-1)*x(t)*y\n",
        "print (\"Тета:\",answer)\n",
        "\n",
        "Y_pred = X_test_scaled.dot(answer) #считаем прогноз\n",
        "\n",
        "print(\"Prognoz:\", Y_pred)\n",
        "\n",
        "\n",
        "calc_metrics(Y_test_scaled, Y_pred) #сравниваем прогноз с реальными значениями и, исходя из этого, считаем ошибки\n",
        "\n"
      ],
      "metadata": {
        "id": "JiJgiBTTxPDI"
      },
      "execution_count": null,
      "outputs": []
    },
    {
      "cell_type": "code",
      "source": [],
      "metadata": {
        "id": "kuyUqaPMylro"
      },
      "execution_count": null,
      "outputs": []
    }
  ]
}